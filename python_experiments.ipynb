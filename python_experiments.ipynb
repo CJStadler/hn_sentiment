{
 "cells": [
  {
   "cell_type": "code",
   "execution_count": 5,
   "metadata": {
    "collapsed": false
   },
   "outputs": [
    {
     "name": "stdout",
     "output_type": "stream",
     "text": [
      "loading...\n",
      "top stories loaded\n"
     ]
    }
   ],
   "source": [
    "from firebase import firebase\n",
    "\n",
    "api = firebase.FirebaseApplication('https://hacker-news.firebaseio.com/v0/', None)\n",
    "\n",
    "def get_topstories():\n",
    "    return api.get('topstories', None)[0:2]\n",
    "\n",
    "def get_item(id):\n",
    "    return api.get(\"item\", id)\n",
    "\n",
    "def get_kids(item):\n",
    "    if item is not None and 'kids' in item:\n",
    "        return all_items(item['kids'])\n",
    "    else:\n",
    "        return []\n",
    "\n",
    "def all_items(ids):\n",
    "    items = []\n",
    "    \n",
    "    if len(ids) > 0:\n",
    "        id = ids[0]\n",
    "        item = get_item(id)\n",
    "        kids = get_kids(item)\n",
    "        items.append(item)\n",
    "        items += kids\n",
    "        items += all_items(ids[1:])\n",
    "        \n",
    "    return items\n",
    "\n",
    "print(\"loading...\")\n",
    "top_stories = all_items(get_topstories())\n",
    "print(\"top stories loaded\")"
   ]
  },
  {
   "cell_type": "code",
   "execution_count": 6,
   "metadata": {
    "collapsed": false
   },
   "outputs": [
    {
     "name": "stdout",
     "output_type": "stream",
     "text": [
      "25\n"
     ]
    }
   ],
   "source": [
    "print(len(top_stories))"
   ]
  }
 ],
 "metadata": {
  "kernelspec": {
   "display_name": "Python 3",
   "language": "python",
   "name": "python3"
  },
  "language_info": {
   "codemirror_mode": {
    "name": "ipython",
    "version": 3
   },
   "file_extension": ".py",
   "mimetype": "text/x-python",
   "name": "python",
   "nbconvert_exporter": "python",
   "pygments_lexer": "ipython3",
   "version": "3.5.1"
  }
 },
 "nbformat": 4,
 "nbformat_minor": 0
}
